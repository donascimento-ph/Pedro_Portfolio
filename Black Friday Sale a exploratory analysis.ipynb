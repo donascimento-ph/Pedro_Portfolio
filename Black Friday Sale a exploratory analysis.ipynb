{
 "cells": [
  {
   "cell_type": "markdown",
   "id": "18c1a000",
   "metadata": {},
   "source": [
    "# Black Friday Sale a exploratory analysis"
   ]
  },
  {
   "cell_type": "markdown",
   "id": "8f9f47d4",
   "metadata": {},
   "source": [
    "The XYZ Company is an online retailer that sells a wide range of products. The company has observed that sales during Black Friday have been decreasing in recent years, and they would like to understand the reason and find ways to increase sales during this important shopping period. To investigate the problem, the company decides to collect information about customer purchases during Black Friday, including the user ID, product ID, gender, age, occupation, city category, years living in their current city, marital status, and product categories. The company hopes that this data will help them identify the main causes of the decline in sales during Black Friday and provide insights on how to increase sales in the future."
   ]
  },
  {
   "cell_type": "markdown",
   "id": "2416c7b5",
   "metadata": {},
   "source": [
    "Possible causes for the decline in Black Friday sales could include:\n",
    "\n",
    "-Competition from other retailers: The company may be facing increased competition from other retailers, both online and offline, who are also offering discounts and promotions during Black Friday. This could lead to customers choosing to shop elsewhere.\n",
    "\n",
    "-Changes in consumer behavior: The way that consumers shop may have changed over time, with more people opting to shop online or during different times of the year. Understanding these changes in consumer behavior could help the company adapt its marketing and sales strategies.\n",
    "\n",
    "-Decreased demand for the company's products: The demand for the company's products may have decreased for various reasons, such as a shift in consumer preferences or the introduction of new products in the market. Identifying the root cause of the decrease in demand could help the company take steps to address it."
   ]
  },
  {
   "cell_type": "code",
   "execution_count": 10,
   "id": "141277fb",
   "metadata": {},
   "outputs": [],
   "source": [
    "import pandas as pd\n",
    "import matplotlib.pyplot as plt\n",
    "import seaborn as sns\n",
    "\n",
    "\n",
    "df=pd.read_csv('BlackFridaySales.csv')"
   ]
  },
  {
   "cell_type": "code",
   "execution_count": 3,
   "id": "c623ee45",
   "metadata": {
    "scrolled": true
   },
   "outputs": [
    {
     "name": "stdout",
     "output_type": "stream",
     "text": [
      "<class 'pandas.core.frame.DataFrame'>\n",
      "RangeIndex: 550068 entries, 0 to 550067\n",
      "Data columns (total 12 columns):\n",
      " #   Column                      Non-Null Count   Dtype  \n",
      "---  ------                      --------------   -----  \n",
      " 0   User_ID                     550068 non-null  int64  \n",
      " 1   Product_ID                  550068 non-null  object \n",
      " 2   Gender                      550068 non-null  object \n",
      " 3   Age                         550068 non-null  object \n",
      " 4   Occupation                  550068 non-null  int64  \n",
      " 5   City_Category               550068 non-null  object \n",
      " 6   Stay_In_Current_City_Years  550068 non-null  object \n",
      " 7   Marital_Status              550068 non-null  int64  \n",
      " 8   Product_Category_1          550068 non-null  int64  \n",
      " 9   Product_Category_2          376430 non-null  float64\n",
      " 10  Product_Category_3          166821 non-null  float64\n",
      " 11  Purchase                    550068 non-null  int64  \n",
      "dtypes: float64(2), int64(5), object(5)\n",
      "memory usage: 50.4+ MB\n"
     ]
    },
    {
     "data": {
      "text/html": [
       "<div>\n",
       "<style scoped>\n",
       "    .dataframe tbody tr th:only-of-type {\n",
       "        vertical-align: middle;\n",
       "    }\n",
       "\n",
       "    .dataframe tbody tr th {\n",
       "        vertical-align: top;\n",
       "    }\n",
       "\n",
       "    .dataframe thead th {\n",
       "        text-align: right;\n",
       "    }\n",
       "</style>\n",
       "<table border=\"1\" class=\"dataframe\">\n",
       "  <thead>\n",
       "    <tr style=\"text-align: right;\">\n",
       "      <th></th>\n",
       "      <th>User_ID</th>\n",
       "      <th>Product_ID</th>\n",
       "      <th>Gender</th>\n",
       "      <th>Age</th>\n",
       "      <th>Occupation</th>\n",
       "      <th>City_Category</th>\n",
       "      <th>Stay_In_Current_City_Years</th>\n",
       "      <th>Marital_Status</th>\n",
       "      <th>Product_Category_1</th>\n",
       "      <th>Product_Category_2</th>\n",
       "      <th>Product_Category_3</th>\n",
       "      <th>Purchase</th>\n",
       "    </tr>\n",
       "  </thead>\n",
       "  <tbody>\n",
       "    <tr>\n",
       "      <th>0</th>\n",
       "      <td>1000001</td>\n",
       "      <td>P00069042</td>\n",
       "      <td>F</td>\n",
       "      <td>0-17</td>\n",
       "      <td>10</td>\n",
       "      <td>A</td>\n",
       "      <td>2</td>\n",
       "      <td>0</td>\n",
       "      <td>3</td>\n",
       "      <td>NaN</td>\n",
       "      <td>NaN</td>\n",
       "      <td>8370</td>\n",
       "    </tr>\n",
       "    <tr>\n",
       "      <th>1</th>\n",
       "      <td>1000001</td>\n",
       "      <td>P00248942</td>\n",
       "      <td>F</td>\n",
       "      <td>0-17</td>\n",
       "      <td>10</td>\n",
       "      <td>A</td>\n",
       "      <td>2</td>\n",
       "      <td>0</td>\n",
       "      <td>1</td>\n",
       "      <td>6.0</td>\n",
       "      <td>14.0</td>\n",
       "      <td>15200</td>\n",
       "    </tr>\n",
       "    <tr>\n",
       "      <th>2</th>\n",
       "      <td>1000001</td>\n",
       "      <td>P00087842</td>\n",
       "      <td>F</td>\n",
       "      <td>0-17</td>\n",
       "      <td>10</td>\n",
       "      <td>A</td>\n",
       "      <td>2</td>\n",
       "      <td>0</td>\n",
       "      <td>12</td>\n",
       "      <td>NaN</td>\n",
       "      <td>NaN</td>\n",
       "      <td>1422</td>\n",
       "    </tr>\n",
       "    <tr>\n",
       "      <th>3</th>\n",
       "      <td>1000001</td>\n",
       "      <td>P00085442</td>\n",
       "      <td>F</td>\n",
       "      <td>0-17</td>\n",
       "      <td>10</td>\n",
       "      <td>A</td>\n",
       "      <td>2</td>\n",
       "      <td>0</td>\n",
       "      <td>12</td>\n",
       "      <td>14.0</td>\n",
       "      <td>NaN</td>\n",
       "      <td>1057</td>\n",
       "    </tr>\n",
       "    <tr>\n",
       "      <th>4</th>\n",
       "      <td>1000002</td>\n",
       "      <td>P00285442</td>\n",
       "      <td>M</td>\n",
       "      <td>55+</td>\n",
       "      <td>16</td>\n",
       "      <td>C</td>\n",
       "      <td>4+</td>\n",
       "      <td>0</td>\n",
       "      <td>8</td>\n",
       "      <td>NaN</td>\n",
       "      <td>NaN</td>\n",
       "      <td>7969</td>\n",
       "    </tr>\n",
       "  </tbody>\n",
       "</table>\n",
       "</div>"
      ],
      "text/plain": [
       "   User_ID Product_ID Gender   Age  Occupation City_Category  \\\n",
       "0  1000001  P00069042      F  0-17          10             A   \n",
       "1  1000001  P00248942      F  0-17          10             A   \n",
       "2  1000001  P00087842      F  0-17          10             A   \n",
       "3  1000001  P00085442      F  0-17          10             A   \n",
       "4  1000002  P00285442      M   55+          16             C   \n",
       "\n",
       "  Stay_In_Current_City_Years  Marital_Status  Product_Category_1  \\\n",
       "0                          2               0                   3   \n",
       "1                          2               0                   1   \n",
       "2                          2               0                  12   \n",
       "3                          2               0                  12   \n",
       "4                         4+               0                   8   \n",
       "\n",
       "   Product_Category_2  Product_Category_3  Purchase  \n",
       "0                 NaN                 NaN      8370  \n",
       "1                 6.0                14.0     15200  \n",
       "2                 NaN                 NaN      1422  \n",
       "3                14.0                 NaN      1057  \n",
       "4                 NaN                 NaN      7969  "
      ]
     },
     "execution_count": 3,
     "metadata": {},
     "output_type": "execute_result"
    }
   ],
   "source": [
    "df.info()\n",
    "df.head(5)"
   ]
  },
  {
   "cell_type": "markdown",
   "id": "44e51d56",
   "metadata": {},
   "source": [
    "We have some missing data on product category but it wasn't filled on purpose."
   ]
  },
  {
   "cell_type": "markdown",
   "id": "d1183abd",
   "metadata": {},
   "source": [
    "# Here are some hypotheses we can develop based on the information provided in the dataframe description:"
   ]
  },
  {
   "cell_type": "markdown",
   "id": "d393b053",
   "metadata": {},
   "source": [
    "The purchase amount is influenced by the city category of the users and the gender of the user"
   ]
  },
  {
   "cell_type": "code",
   "execution_count": 19,
   "id": "7e73d8e5",
   "metadata": {},
   "outputs": [
    {
     "data": {
      "image/png": "[encoded data removed]",
      "text/plain": [
       "<Figure size 432x288 with 1 Axes>"
      ]
     },
     "metadata": {
      "needs_background": "light"
     },
     "output_type": "display_data"
    }
   ],
   "source": [
    "sns.barplot(x='City_Category', y='Purchase', hue='Gender', data=df)\n",
    "plt.xlabel('City Category')\n",
    "plt.ylabel('Purchase Amount')\n",
    "plt.title('Purchase Amount by City Category and Gender')\n",
    "plt.legend(title='Gender')\n",
    "plt.show()"
   ]
  },
  {
   "cell_type": "code",
   "execution_count": 17,
   "id": "789faa6f",
   "metadata": {},
   "outputs": [
    {
     "data": {
      "text/plain": [
       "array([<AxesSubplot:ylabel='Purchase'>], dtype=object)"
      ]
     },
     "execution_count": 17,
     "metadata": {},
     "output_type": "execute_result"
    },
    {
     "data": {
      "image/png": "[encoded data removed]",
      "text/plain": [
       "<Figure size 1080x504 with 1 Axes>"
      ]
     },
     "metadata": {},
     "output_type": "display_data"
    }
   ],
   "source": [
    "gender_pu=df[['Gender','Purchase']].groupby('Gender').sum()\n",
    "gender_pu\n",
    "gender_pu.plot(kind='pie',autopct='%1.1f%%',subplots=True,figsize=(15,7),title='Males vs Females by Total Purchases')"
   ]
  },
  {
   "cell_type": "markdown",
   "id": "14091da9",
   "metadata": {},
   "source": [
    "The Stay_In_Current_City_Years is a key variable to understand the purchase behavior"
   ]
  },
  {
   "cell_type": "code",
   "execution_count": 39,
   "id": "e02f7575",
   "metadata": {
    "scrolled": true
   },
   "outputs": [
    {
     "data": {
      "text/plain": [
       "<AxesSubplot:title={'center':'Stay In Current City Years count'}, xlabel='Stay_In_Current_City_Years'>"
      ]
     },
     "execution_count": 39,
     "metadata": {},
     "output_type": "execute_result"
    },
    {
     "data": {
      "image/png": "[encoded data removed]",
      "text/plain": [
       "<Figure size 432x288 with 1 Axes>"
      ]
     },
     "metadata": {
      "needs_background": "light"
     },
     "output_type": "display_data"
    }
   ],
   "source": [
    "sc_count=df[['Stay_In_Current_City_Years','Purchase']].groupby('Stay_In_Current_City_Years').count()\n",
    "sc_count=sc_count.sort_values(by='Stay_In_Current_City_Years')\n",
    "sc_count.plot(kind='bar',title='Stay In Current City Years count')\n"
   ]
  },
  {
   "cell_type": "markdown",
   "id": "ed13c82e",
   "metadata": {},
   "source": [
    " The purchase amount (target variable) is influenced by the age, occupation and marital status of the users."
   ]
  },
  {
   "cell_type": "code",
   "execution_count": 32,
   "id": "336f960b",
   "metadata": {},
   "outputs": [
    {
     "data": {
      "text/plain": [
       "<AxesSubplot:title={'center':'Age count'}, xlabel='Age'>"
      ]
     },
     "execution_count": 32,
     "metadata": {},
     "output_type": "execute_result"
    },
    {
     "data": {
      "image/png": "[encoded data removed]",
      "text/plain": [
       "<Figure size 432x288 with 1 Axes>"
      ]
     },
     "metadata": {
      "needs_background": "light"
     },
     "output_type": "display_data"
    }
   ],
   "source": [
    "age_count=df[['Age','Purchase']].groupby('Age').count()\n",
    "age_count=age_count.sort_values(by='Age')\n",
    "age_count.plot(kind='bar',title='Age count')"
   ]
  },
  {
   "cell_type": "code",
   "execution_count": 34,
   "id": "c4f64103",
   "metadata": {},
   "outputs": [
    {
     "data": {
      "text/plain": [
       "<AxesSubplot:title={'center':'Marital Status count'}, xlabel='Marital_Status'>"
      ]
     },
     "execution_count": 34,
     "metadata": {},
     "output_type": "execute_result"
    },
    {
     "data": {
      "image/png": "[encoded data removed]",
      "text/plain": [
       "<Figure size 432x288 with 1 Axes>"
      ]
     },
     "metadata": {
      "needs_background": "light"
     },
     "output_type": "display_data"
    }
   ],
   "source": [
    "ms_count=df[['Marital_Status','Purchase']].groupby('Marital_Status').count()\n",
    "ms_count=ms_count.sort_values(by='Marital_Status')\n",
    "ms_count.plot(kind='bar',title='Marital Status count')"
   ]
  },
  {
   "cell_type": "code",
   "execution_count": 37,
   "id": "e37041a4",
   "metadata": {},
   "outputs": [
    {
     "data": {
      "text/plain": [
       "<AxesSubplot:title={'center':'Occupation count'}, xlabel='Occupation'>"
      ]
     },
     "execution_count": 37,
     "metadata": {},
     "output_type": "execute_result"
    },
    {
     "data": {
      "image/png": "[encoded data removed]",
      "text/plain": [
       "<Figure size 432x288 with 1 Axes>"
      ]
     },
     "metadata": {
      "needs_background": "light"
     },
     "output_type": "display_data"
    }
   ],
   "source": [
    "ocu_count=df[['Occupation','Purchase']].groupby('Occupation').count()\n",
    "ocu_count=ocu_count.sort_values(by='Purchase',ascending=True)\n",
    "ocu_count.plot(kind='bar',title='Occupation count')"
   ]
  },
  {
   "cell_type": "markdown",
   "id": "ca4cb58b",
   "metadata": {},
   "source": [
    "# Insights and Proposed solution"
   ]
  },
  {
   "cell_type": "markdown",
   "id": "200bb72f",
   "metadata": {},
   "source": [
    "After analyzing the data collected during the Black Friday sales, several insights have emerged regarding the factors that influence the purchase behavior of customers.\n",
    "\n",
    "One of the most notable findings is that the male population is more involved in purchases, as well as customers who have been living in the city for only one year. This suggests that the company should focus more on the needs and preferences of male customers, as well as those who have recently moved to the city, in order to increase sales during the Black Friday period.\n",
    "\n",
    "In addition, it was observed that customers between the ages of 26-35, who are single, and with occupation status 4,0,7 and 1, had a higher correlation with the purchase variable. This suggests that these customers are more likely to be the ones making the most purchases, and the company could focus on understanding the needs of this target group and tailor its marketing and sales strategies accordingly.\n",
    "\n",
    "Based on these insights, the company could develop a targeted marketing strategy to attract male customers who have recently moved to the city, as well as those between the ages of 26-35, who are single, and with occupation status 4,0,7 and 1. The company could, for example, launch specific campaigns and promotions that would be relevant to these target groups, in order to increase their interest in buying during the Black Friday period.\n",
    "\n",
    "Additionally, the company could analyze the products most commonly bought by the mentioned target groups, and potentially increase the stock of those products or give them more visibility on the website. Additionally, the company could also consider offering special discounts or promotions on those products to increase interest in these groups.\n",
    "\n",
    "It's important to keep in mind that these suggestions are not definitive answers and should be validated with further testing and analysis. But with these insights, the company can now develop strategies that are more tailored to the audience, which can be more effective in increasing sales during Black Friday."
   ]
  },
  {
   "cell_type": "code",
   "execution_count": null,
   "id": "674842ea",
   "metadata": {},
   "outputs": [],
   "source": []
  }
 ],
 "metadata": {
  "kernelspec": {
   "display_name": "Python 3 (ipykernel)",
   "language": "python",
   "name": "python3"
  },
  "language_info": {
   "codemirror_mode": {
    "name": "ipython",
    "version": 3
   },
   "file_extension": ".py",
   "mimetype": "text/x-python",
   "name": "python",
   "nbconvert_exporter": "python",
   "pygments_lexer": "ipython3",
   "version": "3.9.12"
  }
 },
 "nbformat": 4,
 "nbformat_minor": 5
}
